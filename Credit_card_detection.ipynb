{
  "cells": [
    {
      "cell_type": "markdown",
      "metadata": {
        "id": "view-in-github",
        "colab_type": "text"
      },
      "source": [
        "<a href=\"https://colab.research.google.com/github/Swethaa12/Naan_Mudhalvan_Project/blob/main/Credit_card_detection.ipynb\" target=\"_parent\"><img src=\"https://colab.research.google.com/assets/colab-badge.svg\" alt=\"Open In Colab\"/></a>"
      ]
    },
    {
      "cell_type": "markdown",
      "metadata": {
        "id": "bPWEW1jtTKDW"
      },
      "source": [
        "# Import necessary libraries"
      ]
    },
    {
      "cell_type": "code",
      "execution_count": null,
      "metadata": {
        "id": "WFW4xrbgTEqs"
      },
      "outputs": [],
      "source": [
        "import pandas as pd\n",
        "from sklearn.model_selection import train_test_split\n",
        "from sklearn.preprocessing import StandardScaler\n",
        "from imblearn.over_sampling import SMOTE\n",
        "from sklearn.ensemble import RandomForestClassifier\n",
        "from sklearn.metrics import classification_report, accuracy_score\n"
      ]
    },
    {
      "cell_type": "markdown",
      "metadata": {
        "id": "CxDKZRe2TSX7"
      },
      "source": [
        "# Load the dataset"
      ]
    },
    {
      "cell_type": "code",
      "execution_count": null,
      "metadata": {
        "id": "Ju4TW9ymTVtX"
      },
      "outputs": [],
      "source": [
        "df = pd.read_csv(\"fraudTest.csv\")"
      ]
    },
    {
      "cell_type": "markdown",
      "metadata": {
        "id": "_3sC9y-xTX4B"
      },
      "source": [
        "# Explore the Dataset"
      ]
    },
    {
      "cell_type": "code",
      "execution_count": null,
      "metadata": {
        "id": "0SkcBTbrTaRQ",
        "colab": {
          "base_uri": "https://localhost:8080/"
        },
        "outputId": "98a450bd-173d-4ae2-bd1b-39c9036767a7"
      },
      "outputs": [
        {
          "output_type": "stream",
          "name": "stdout",
          "text": [
            "   Unnamed: 0 trans_date_trans_time            cc_num  \\\n",
            "0           0   2020-06-21 12:14:25  2291163933867244   \n",
            "1           1   2020-06-21 12:14:33  3573030041201292   \n",
            "2           2   2020-06-21 12:14:53  3598215285024754   \n",
            "3           3   2020-06-21 12:15:15  3591919803438423   \n",
            "4           4   2020-06-21 12:15:17  3526826139003047   \n",
            "\n",
            "                               merchant        category    amt   first  \\\n",
            "0                 fraud_Kirlin and Sons   personal_care   2.86    Jeff   \n",
            "1                  fraud_Sporer-Keebler   personal_care  29.84  Joanne   \n",
            "2  fraud_Swaniawski, Nitzsche and Welch  health_fitness  41.28  Ashley   \n",
            "3                     fraud_Haley Group        misc_pos  60.05   Brian   \n",
            "4                 fraud_Johnston-Casper          travel   3.19  Nathan   \n",
            "\n",
            "       last gender                       street  ...      lat      long  \\\n",
            "0   Elliott      M            351 Darlene Green  ...  33.9659  -80.9355   \n",
            "1  Williams      F             3638 Marsh Union  ...  40.3207 -110.4360   \n",
            "2     Lopez      F         9333 Valentine Point  ...  40.6729  -73.5365   \n",
            "3  Williams      M  32941 Krystal Mill Apt. 552  ...  28.5697  -80.8191   \n",
            "4    Massey      M     5783 Evan Roads Apt. 465  ...  44.2529  -85.0170   \n",
            "\n",
            "   city_pop                     job         dob  \\\n",
            "0    333497     Mechanical engineer  1968-03-19   \n",
            "1       302  Sales professional, IT  1990-01-17   \n",
            "2     34496       Librarian, public  1970-10-21   \n",
            "3     54767            Set designer  1987-07-25   \n",
            "4      1126      Furniture designer  1955-07-06   \n",
            "\n",
            "                          trans_num     unix_time  merch_lat  merch_long  \\\n",
            "0  2da90c7d74bd46a0caf3777415b3ebd3  1.371817e+09  33.986391  -81.200714   \n",
            "1  324cc204407e99f51b0d6ca0055005e7  1.371817e+09  39.450498 -109.960431   \n",
            "2  c81755dbbbea9d5c77f094348a7579be  1.371817e+09  40.495810  -74.196111   \n",
            "3  2159175b9efe66dc301f149d3d5abf8c  1.371817e+09  28.812398  -80.883061   \n",
            "4  57ff021bd3f328f8738bb535c302a31b  1.371817e+09  44.959148  -85.884734   \n",
            "\n",
            "   is_fraud  \n",
            "0       0.0  \n",
            "1       0.0  \n",
            "2       0.0  \n",
            "3       0.0  \n",
            "4       0.0  \n",
            "\n",
            "[5 rows x 23 columns]\n",
            "<class 'pandas.core.frame.DataFrame'>\n",
            "RangeIndex: 11697 entries, 0 to 11696\n",
            "Data columns (total 23 columns):\n",
            " #   Column                 Non-Null Count  Dtype  \n",
            "---  ------                 --------------  -----  \n",
            " 0   Unnamed: 0             11697 non-null  int64  \n",
            " 1   trans_date_trans_time  11697 non-null  object \n",
            " 2   cc_num                 11697 non-null  int64  \n",
            " 3   merchant               11697 non-null  object \n",
            " 4   category               11697 non-null  object \n",
            " 5   amt                    11697 non-null  float64\n",
            " 6   first                  11697 non-null  object \n",
            " 7   last                   11697 non-null  object \n",
            " 8   gender                 11697 non-null  object \n",
            " 9   street                 11697 non-null  object \n",
            " 10  city                   11697 non-null  object \n",
            " 11  state                  11697 non-null  object \n",
            " 12  zip                    11697 non-null  int64  \n",
            " 13  lat                    11697 non-null  float64\n",
            " 14  long                   11697 non-null  float64\n",
            " 15  city_pop               11697 non-null  int64  \n",
            " 16  job                    11697 non-null  object \n",
            " 17  dob                    11697 non-null  object \n",
            " 18  trans_num              11697 non-null  object \n",
            " 19  unix_time              11696 non-null  float64\n",
            " 20  merch_lat              11696 non-null  float64\n",
            " 21  merch_long             11696 non-null  float64\n",
            " 22  is_fraud               11696 non-null  float64\n",
            "dtypes: float64(7), int64(4), object(12)\n",
            "memory usage: 2.1+ MB\n",
            "None\n",
            "Unnamed: 0               0\n",
            "trans_date_trans_time    0\n",
            "cc_num                   0\n",
            "merchant                 0\n",
            "category                 0\n",
            "amt                      0\n",
            "first                    0\n",
            "last                     0\n",
            "gender                   0\n",
            "street                   0\n",
            "city                     0\n",
            "state                    0\n",
            "zip                      0\n",
            "lat                      0\n",
            "long                     0\n",
            "city_pop                 0\n",
            "job                      0\n",
            "dob                      0\n",
            "trans_num                0\n",
            "unix_time                1\n",
            "merch_lat                1\n",
            "merch_long               1\n",
            "is_fraud                 1\n",
            "dtype: int64\n",
            "         Unnamed: 0        cc_num           amt           zip           lat  \\\n",
            "count  11697.000000  1.169700e+04  11697.000000  11697.000000  11697.000000   \n",
            "mean    5848.000000  4.065538e+17     66.241288  48583.520988     38.491370   \n",
            "std     3376.777384  1.295805e+18    124.015784  26706.800199      5.112304   \n",
            "min        0.000000  6.041621e+10      1.000000   1257.000000     20.027100   \n",
            "25%     2924.000000  1.800429e+14      9.200000  26237.000000     34.509100   \n",
            "50%     5848.000000  3.518669e+15     43.770000  48034.000000     39.342600   \n",
            "75%     8772.000000  4.634956e+15     79.770000  72011.000000     42.014400   \n",
            "max    11696.000000  4.992346e+18   3396.840000  99783.000000     65.689900   \n",
            "\n",
            "               long      city_pop     unix_time     merch_lat    merch_long  \\\n",
            "count  11697.000000  1.169700e+04  1.169600e+04  11696.000000  11696.000000   \n",
            "mean     -90.029371  9.471794e+04  1.371949e+09     38.477973    -90.028840   \n",
            "std       13.575833  3.222010e+05  7.917888e+04      5.144570     13.592734   \n",
            "min     -165.672300  2.300000e+01  1.371817e+09     19.163455   -166.464422   \n",
            "25%      -96.618400  7.820000e+02  1.371885e+09     34.627043    -96.595760   \n",
            "50%      -86.965700  2.691000e+03  1.371941e+09     39.332037    -87.238137   \n",
            "75%      -80.175200  2.163500e+04  1.372010e+09     41.997231    -80.270511   \n",
            "max      -67.950300  2.906700e+06  1.372113e+09     65.951727    -67.122946   \n",
            "\n",
            "           is_fraud  \n",
            "count  11696.000000  \n",
            "mean       0.002479  \n",
            "std        0.049735  \n",
            "min        0.000000  \n",
            "25%        0.000000  \n",
            "50%        0.000000  \n",
            "75%        0.000000  \n",
            "max        1.000000  \n",
            "0.0    11667\n",
            "1.0       29\n",
            "Name: is_fraud, dtype: int64\n"
          ]
        }
      ],
      "source": [
        "print(df.head())\n",
        "print(df.info())\n",
        "print(df.isnull().sum())\n",
        "print(df.describe())\n",
        "print(df['is_fraud'].value_counts())"
      ]
    },
    {
      "cell_type": "markdown",
      "metadata": {
        "id": "ITiltYOJTdRn"
      },
      "source": [
        "\n",
        "\n",
        "# Split Data into Features and Target"
      ]
    },
    {
      "cell_type": "code",
      "execution_count": null,
      "metadata": {
        "id": "LNqoh6njTfbt"
      },
      "outputs": [],
      "source": [
        "df = df.dropna(subset=['is_fraud'])\n",
        "X = df.drop(['is_fraud', 'trans_date_trans_time'], axis=1)\n",
        "y = df['is_fraud']"
      ]
    },
    {
      "cell_type": "code",
      "source": [
        "non_numeric_columns = ['first', 'last', 'gender', 'street', 'city', 'state', 'job', 'dob', 'trans_num']\n",
        "X = X.drop(non_numeric_columns, axis=1)"
      ],
      "metadata": {
        "id": "MLVleMYFmEsK"
      },
      "execution_count": null,
      "outputs": []
    },
    {
      "cell_type": "markdown",
      "source": [
        "#Perform one-hot encoding for categorical columns 'merchant' and 'category'bold text"
      ],
      "metadata": {
        "id": "BX9kn_20j71e"
      }
    },
    {
      "cell_type": "code",
      "source": [
        "X = pd.get_dummies(X, columns=['merchant', 'category'], drop_first=True)"
      ],
      "metadata": {
        "id": "pbISuw5Xj8vw"
      },
      "execution_count": null,
      "outputs": []
    },
    {
      "cell_type": "markdown",
      "metadata": {
        "id": "pF5oTQXdTifW"
      },
      "source": [
        "\n",
        "\n",
        "# Data Preprocessing\n",
        "# Data cleaning and feature selection"
      ]
    },
    {
      "cell_type": "code",
      "execution_count": null,
      "metadata": {
        "id": "AAc4LpQOTlMd"
      },
      "outputs": [],
      "source": [
        "X['amt'].fillna(X['amt'].mean(), inplace=True)\n",
        "X.drop_duplicates(inplace=True)\n",
        "selected_columns = ['cc_num', 'merchant', 'category', 'amt']\n",
        "X = X[selected_columns]\n",
        "scaler = StandardScaler()\n",
        "X[['amt']] = scaler.fit_transform(X[['amt']])"
      ]
    },
    {
      "cell_type": "markdown",
      "metadata": {
        "id": "ArYHJYnJTm-S"
      },
      "source": [
        "# Handling Imbalanced Data with SMOTE"
      ]
    },
    {
      "cell_type": "code",
      "execution_count": null,
      "metadata": {
        "id": "bzNYQkiZTtTX"
      },
      "outputs": [],
      "source": [
        "smote = SMOTE(sampling_strategy=0.5)  # Adjust the sampling_strategy as needed\n",
        "X_resampled, y_resampled = smote.fit_resample(X, y)"
      ]
    },
    {
      "cell_type": "markdown",
      "metadata": {
        "id": "Y2BOr7fvTvOq"
      },
      "source": [
        "\n",
        "\n",
        "# Split the resampled data into training and testing sets"
      ]
    },
    {
      "cell_type": "code",
      "execution_count": null,
      "metadata": {
        "id": "xCkycuLzT1wz"
      },
      "outputs": [],
      "source": [
        "X_train, X_test, y_train, y_test = train_test_split(X_resampled, y_resampled, test_size=0.3, random_state=42)"
      ]
    },
    {
      "cell_type": "markdown",
      "metadata": {
        "id": "bTSSmBCiT5Bf"
      },
      "source": [
        "\n",
        "# Train a Machine Learning Model (Random Forest Classifier as an example)"
      ]
    },
    {
      "cell_type": "code",
      "execution_count": null,
      "metadata": {
        "id": "8SndFOC-T7uv",
        "colab": {
          "base_uri": "https://localhost:8080/",
          "height": 75
        },
        "outputId": "4b88a0d1-7187-45e5-a159-d9f414bca37b"
      },
      "outputs": [
        {
          "output_type": "execute_result",
          "data": {
            "text/plain": [
              "RandomForestClassifier(random_state=42)"
            ],
            "text/html": [
              "<style>#sk-container-id-1 {color: black;background-color: white;}#sk-container-id-1 pre{padding: 0;}#sk-container-id-1 div.sk-toggleable {background-color: white;}#sk-container-id-1 label.sk-toggleable__label {cursor: pointer;display: block;width: 100%;margin-bottom: 0;padding: 0.3em;box-sizing: border-box;text-align: center;}#sk-container-id-1 label.sk-toggleable__label-arrow:before {content: \"▸\";float: left;margin-right: 0.25em;color: #696969;}#sk-container-id-1 label.sk-toggleable__label-arrow:hover:before {color: black;}#sk-container-id-1 div.sk-estimator:hover label.sk-toggleable__label-arrow:before {color: black;}#sk-container-id-1 div.sk-toggleable__content {max-height: 0;max-width: 0;overflow: hidden;text-align: left;background-color: #f0f8ff;}#sk-container-id-1 div.sk-toggleable__content pre {margin: 0.2em;color: black;border-radius: 0.25em;background-color: #f0f8ff;}#sk-container-id-1 input.sk-toggleable__control:checked~div.sk-toggleable__content {max-height: 200px;max-width: 100%;overflow: auto;}#sk-container-id-1 input.sk-toggleable__control:checked~label.sk-toggleable__label-arrow:before {content: \"▾\";}#sk-container-id-1 div.sk-estimator input.sk-toggleable__control:checked~label.sk-toggleable__label {background-color: #d4ebff;}#sk-container-id-1 div.sk-label input.sk-toggleable__control:checked~label.sk-toggleable__label {background-color: #d4ebff;}#sk-container-id-1 input.sk-hidden--visually {border: 0;clip: rect(1px 1px 1px 1px);clip: rect(1px, 1px, 1px, 1px);height: 1px;margin: -1px;overflow: hidden;padding: 0;position: absolute;width: 1px;}#sk-container-id-1 div.sk-estimator {font-family: monospace;background-color: #f0f8ff;border: 1px dotted black;border-radius: 0.25em;box-sizing: border-box;margin-bottom: 0.5em;}#sk-container-id-1 div.sk-estimator:hover {background-color: #d4ebff;}#sk-container-id-1 div.sk-parallel-item::after {content: \"\";width: 100%;border-bottom: 1px solid gray;flex-grow: 1;}#sk-container-id-1 div.sk-label:hover label.sk-toggleable__label {background-color: #d4ebff;}#sk-container-id-1 div.sk-serial::before {content: \"\";position: absolute;border-left: 1px solid gray;box-sizing: border-box;top: 0;bottom: 0;left: 50%;z-index: 0;}#sk-container-id-1 div.sk-serial {display: flex;flex-direction: column;align-items: center;background-color: white;padding-right: 0.2em;padding-left: 0.2em;position: relative;}#sk-container-id-1 div.sk-item {position: relative;z-index: 1;}#sk-container-id-1 div.sk-parallel {display: flex;align-items: stretch;justify-content: center;background-color: white;position: relative;}#sk-container-id-1 div.sk-item::before, #sk-container-id-1 div.sk-parallel-item::before {content: \"\";position: absolute;border-left: 1px solid gray;box-sizing: border-box;top: 0;bottom: 0;left: 50%;z-index: -1;}#sk-container-id-1 div.sk-parallel-item {display: flex;flex-direction: column;z-index: 1;position: relative;background-color: white;}#sk-container-id-1 div.sk-parallel-item:first-child::after {align-self: flex-end;width: 50%;}#sk-container-id-1 div.sk-parallel-item:last-child::after {align-self: flex-start;width: 50%;}#sk-container-id-1 div.sk-parallel-item:only-child::after {width: 0;}#sk-container-id-1 div.sk-dashed-wrapped {border: 1px dashed gray;margin: 0 0.4em 0.5em 0.4em;box-sizing: border-box;padding-bottom: 0.4em;background-color: white;}#sk-container-id-1 div.sk-label label {font-family: monospace;font-weight: bold;display: inline-block;line-height: 1.2em;}#sk-container-id-1 div.sk-label-container {text-align: center;}#sk-container-id-1 div.sk-container {/* jupyter's `normalize.less` sets `[hidden] { display: none; }` but bootstrap.min.css set `[hidden] { display: none !important; }` so we also need the `!important` here to be able to override the default hidden behavior on the sphinx rendered scikit-learn.org. See: https://github.com/scikit-learn/scikit-learn/issues/21755 */display: inline-block !important;position: relative;}#sk-container-id-1 div.sk-text-repr-fallback {display: none;}</style><div id=\"sk-container-id-1\" class=\"sk-top-container\"><div class=\"sk-text-repr-fallback\"><pre>RandomForestClassifier(random_state=42)</pre><b>In a Jupyter environment, please rerun this cell to show the HTML representation or trust the notebook. <br />On GitHub, the HTML representation is unable to render, please try loading this page with nbviewer.org.</b></div><div class=\"sk-container\" hidden><div class=\"sk-item\"><div class=\"sk-estimator sk-toggleable\"><input class=\"sk-toggleable__control sk-hidden--visually\" id=\"sk-estimator-id-1\" type=\"checkbox\" checked><label for=\"sk-estimator-id-1\" class=\"sk-toggleable__label sk-toggleable__label-arrow\">RandomForestClassifier</label><div class=\"sk-toggleable__content\"><pre>RandomForestClassifier(random_state=42)</pre></div></div></div></div></div>"
            ]
          },
          "metadata": {},
          "execution_count": 32
        }
      ],
      "source": [
        "model = RandomForestClassifier(n_estimators=100, random_state=42)\n",
        "model.fit(X_train, y_train)"
      ]
    },
    {
      "cell_type": "code",
      "source": [],
      "metadata": {
        "id": "_VA2k1py4p1k"
      },
      "execution_count": null,
      "outputs": []
    },
    {
      "cell_type": "markdown",
      "metadata": {
        "id": "WpOvJDMaT-jH"
      },
      "source": [
        "\n",
        "# Make predictions on the test set"
      ]
    },
    {
      "cell_type": "code",
      "execution_count": null,
      "metadata": {
        "id": "JDBU6D4xUAVH"
      },
      "outputs": [],
      "source": [
        "y_pred = model.predict(X_test)"
      ]
    },
    {
      "cell_type": "markdown",
      "metadata": {
        "id": "PHqM2BzMUCzx"
      },
      "source": [
        "\n",
        "# Model Evaluation"
      ]
    },
    {
      "cell_type": "code",
      "execution_count": null,
      "metadata": {
        "id": "0K-yWHk1UGMT",
        "colab": {
          "base_uri": "https://localhost:8080/"
        },
        "outputId": "65acb893-b167-4075-8b8e-77d89388ba46"
      },
      "outputs": [
        {
          "output_type": "stream",
          "name": "stdout",
          "text": [
            "Accuracy: 0.9998095238095238\n",
            "Classification Report:\n",
            "               precision    recall  f1-score   support\n",
            "\n",
            "         0.0       1.00      1.00      1.00      3509\n",
            "         1.0       1.00      1.00      1.00      1741\n",
            "\n",
            "    accuracy                           1.00      5250\n",
            "   macro avg       1.00      1.00      1.00      5250\n",
            "weighted avg       1.00      1.00      1.00      5250\n",
            "\n"
          ]
        }
      ],
      "source": [
        "accuracy = accuracy_score(y_test, y_pred)\n",
        "classification_report = classification_report(y_test, y_pred)\n",
        "print(\"Accuracy:\", accuracy)\n",
        "print(\"Classification Report:\\n\", classification_report)"
      ]
    }
  ],
  "metadata": {
    "colab": {
      "provenance": [],
      "include_colab_link": true
    },
    "kernelspec": {
      "display_name": "Python 3",
      "name": "python3"
    },
    "language_info": {
      "name": "python"
    }
  },
  "nbformat": 4,
  "nbformat_minor": 0
}